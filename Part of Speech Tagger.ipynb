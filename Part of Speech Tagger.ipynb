{
 "cells": [
  {
   "cell_type": "markdown",
   "metadata": {
    "toc": true
   },
   "source": [
    "<h1>Table of Contents<span class=\"tocSkip\"></span></h1>\n",
    "<div class=\"toc\"><ul class=\"toc-item\"><li><ul class=\"toc-item\"><li><span><a href=\"#Libraries\" data-toc-modified-id=\"Libraries-0.1\"><span class=\"toc-item-num\">0.1&nbsp;&nbsp;</span>Libraries</a></span></li></ul></li><li><span><a href=\"#Import-Data\" data-toc-modified-id=\"Import-Data-1\"><span class=\"toc-item-num\">1&nbsp;&nbsp;</span>Import Data</a></span></li></ul></div>"
   ]
  },
  {
   "cell_type": "markdown",
   "metadata": {},
   "source": [
    "Use a hidden Markov model to create a part of speech tagger using the [pomegranate](https://pomegranate.readthedocs.io/en/latest/) library"
   ]
  },
  {
   "cell_type": "markdown",
   "metadata": {},
   "source": [
    "## Libraries"
   ]
  },
  {
   "cell_type": "code",
   "execution_count": 3,
   "metadata": {},
   "outputs": [
    {
     "name": "stdout",
     "output_type": "stream",
     "text": [
      "The autoreload extension is already loaded. To reload it, use:\n",
      "  %reload_ext autoreload\n"
     ]
    }
   ],
   "source": [
    "# Jupyter \"magic methods\"\n",
    "%load_ext autoreload\n",
    "%aimport helpers, tests\n",
    "%autoreload 1"
   ]
  },
  {
   "cell_type": "code",
   "execution_count": 8,
   "metadata": {},
   "outputs": [],
   "source": [
    "import os\n",
    "\n",
    "import matplotlib.pyplot as plt\n",
    "import numpy as np\n",
    "\n",
    "from IPython.core.display import HTML\n",
    "from itertools import chain\n",
    "from collections import Counter, defaultdict\n",
    "from helpers import show_model, Dataset\n",
    "from pomegranate import State, HiddenMarkovModel, DiscreteDistribution"
   ]
  },
  {
   "cell_type": "markdown",
   "metadata": {},
   "source": [
    "# Import Data"
   ]
  },
  {
   "cell_type": "markdown",
   "metadata": {},
   "source": [
    "Load in text from the [Brown University Standard Corpus of Present-Day American English](https://en.wikipedia.org/wiki/Brown_Corpus)"
   ]
  },
  {
   "cell_type": "code",
   "execution_count": 9,
   "metadata": {},
   "outputs": [],
   "source": [
    "# data paths\n",
    "brown_data = os.path.join(\"data\",\"brown-universal.txt\")\n",
    "tags_data = os.path.join(\"data\",\"tags-universal.txt\")"
   ]
  },
  {
   "cell_type": "code",
   "execution_count": 13,
   "metadata": {},
   "outputs": [
    {
     "name": "stdout",
     "output_type": "stream",
     "text": [
      "b100-5507\n",
      "Mr.\tNOUN\n",
      "Podger\tNOUN\n",
      "had\tVERB\n",
      "thanked\tVERB\n",
      "him\tPRON\n",
      "gravely\tADV\n",
      ",\t.\n",
      "and\tCONJ\n",
      "now\tADV\n",
      "he\tPRON\n",
      "made\tVERB\n",
      "use\tNOUN\n",
      "of\tADP\n",
      "the\tDET\n",
      "advice\tNOUN\n",
      ".\n"
     ]
    }
   ],
   "source": [
    "# check out the brown data\n",
    "with open(brown_data, \"r\") as f:\n",
    "    text = f.read()\n",
    "    \n",
    "print(text[:150])"
   ]
  },
  {
   "cell_type": "code",
   "execution_count": 14,
   "metadata": {},
   "outputs": [
    {
     "name": "stdout",
     "output_type": "stream",
     "text": [
      ".\n",
      "ADJ\n",
      "ADP\n",
      "ADV\n",
      "CONJ\n",
      "DET\n",
      "NOUN\n",
      "NUM\n",
      "PRON\n",
      "PRT\n",
      "VERB\n",
      "X\n"
     ]
    }
   ],
   "source": [
    "# check out the universal tags list\n",
    "with open(tags_data, \"r\") as f:\n",
    "    tags = f.read()\n",
    "    \n",
    "print(tags)"
   ]
  },
  {
   "cell_type": "code",
   "execution_count": null,
   "metadata": {},
   "outputs": [],
   "source": []
  },
  {
   "cell_type": "code",
   "execution_count": null,
   "metadata": {},
   "outputs": [],
   "source": []
  }
 ],
 "metadata": {
  "kernelspec": {
   "display_name": "Python 3",
   "language": "python",
   "name": "python3"
  },
  "language_info": {
   "codemirror_mode": {
    "name": "ipython",
    "version": 3
   },
   "file_extension": ".py",
   "mimetype": "text/x-python",
   "name": "python",
   "nbconvert_exporter": "python",
   "pygments_lexer": "ipython3",
   "version": "3.6.5"
  },
  "toc": {
   "base_numbering": 1,
   "nav_menu": {},
   "number_sections": true,
   "sideBar": true,
   "skip_h1_title": false,
   "title_cell": "Table of Contents",
   "title_sidebar": "Contents",
   "toc_cell": true,
   "toc_position": {},
   "toc_section_display": true,
   "toc_window_display": true
  }
 },
 "nbformat": 4,
 "nbformat_minor": 2
}
